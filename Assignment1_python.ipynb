{
 "cells": [
  {
   "cell_type": "markdown",
   "id": "998db387",
   "metadata": {},
   "source": [
    "<h2>Exercises</h2>\n",
    "\n",
    "<h4>Answer the questions or complete the tasks outlined in bold below, use the specific method described if applicable.</h4>"
   ]
  },
  {
   "cell_type": "markdown",
   "id": "c3e1bae3",
   "metadata": {},
   "source": [
    "** What is 7 to the power of 4?**"
   ]
  },
  {
   "cell_type": "code",
   "execution_count": 1,
   "id": "6840616a",
   "metadata": {},
   "outputs": [
    {
     "data": {
      "text/plain": [
       "2401"
      ]
     },
     "execution_count": 1,
     "metadata": {},
     "output_type": "execute_result"
    }
   ],
   "source": [
    "7**4"
   ]
  },
  {
   "cell_type": "markdown",
   "id": "038a8a36",
   "metadata": {},
   "source": [
    "** Split this string:**\n",
    "\n",
    "s = \"Hi there Yogesh!\"\n",
    "\n",
    "*into a list. *"
   ]
  },
  {
   "cell_type": "code",
   "execution_count": 8,
   "id": "ac1b8fcd",
   "metadata": {},
   "outputs": [
    {
     "data": {
      "text/plain": [
       "['Hi', 'there', 'Yogesh!']"
      ]
     },
     "execution_count": 8,
     "metadata": {},
     "output_type": "execute_result"
    }
   ],
   "source": [
    "s = \"Hi there Yogesh!\"\n",
    "s.split()"
   ]
  },
  {
   "cell_type": "markdown",
   "id": "00f847ac",
   "metadata": {},
   "source": [
    "** Given the variables:**\n",
    "\n",
    "planet = \"Earth\"\n",
    "diameter = 12742\n",
    "\n",
    "** Use .format() to print the following string: **\n",
    "\n",
    "The diameter of Earth is 12742 kilometers."
   ]
  },
  {
   "cell_type": "code",
   "execution_count": 9,
   "id": "88e28e0b",
   "metadata": {},
   "outputs": [
    {
     "name": "stdout",
     "output_type": "stream",
     "text": [
      "The diameter of Earth is 12742 kilometers\n"
     ]
    }
   ],
   "source": [
    "planet = \"Earth\" \n",
    "diameter = 12742\n",
    "print(\"The diameter of {} is {} kilometers\".format(planet, diameter))"
   ]
  },
  {
   "cell_type": "markdown",
   "id": "1d10bec9",
   "metadata": {},
   "source": [
    "** Given this nested list, use indexing to grab the word \"hello\" **\n",
    "\n",
    "lst = [1,2,[3,4],[5,[100,200,['hello']],23,11],1,7]'"
   ]
  },
  {
   "cell_type": "code",
   "execution_count": 11,
   "id": "c04bf972",
   "metadata": {},
   "outputs": [
    {
     "data": {
      "text/plain": [
       "['hello']"
      ]
     },
     "execution_count": 11,
     "metadata": {},
     "output_type": "execute_result"
    }
   ],
   "source": [
    "lst = [1,2,[3,4],[5,[100,200,['hello']],23,11],1,7]\n",
    "lst[3][1][2]"
   ]
  },
  {
   "cell_type": "markdown",
   "id": "65ee3bd1",
   "metadata": {},
   "source": [
    "** Given this nested dictionary grab the word \"hello\". Be prepared, this will be annoying/tricky **"
   ]
  },
  {
   "cell_type": "code",
   "execution_count": 14,
   "id": "29694292",
   "metadata": {},
   "outputs": [],
   "source": [
    "d = {'k1':[1,2,3,{'tricky':['oh','man','inception',{'target':[1,2,3,'hello']}]}]}"
   ]
  },
  {
   "cell_type": "code",
   "execution_count": 17,
   "id": "731499e1",
   "metadata": {},
   "outputs": [
    {
     "data": {
      "text/plain": [
       "'hello'"
      ]
     },
     "execution_count": 17,
     "metadata": {},
     "output_type": "execute_result"
    }
   ],
   "source": [
    "d['k1'][3]['tricky'][3]['target'][3]"
   ]
  },
  {
   "cell_type": "markdown",
   "id": "879de124",
   "metadata": {},
   "source": [
    "** What is the main difference between a tuple and a list? **"
   ]
  },
  {
   "cell_type": "markdown",
   "id": "4b6b3827",
   "metadata": {},
   "source": [
    "The main difference between list and tuple is lists are mutable and tuples are immutable."
   ]
  },
  {
   "cell_type": "markdown",
   "id": "5f4954c6",
   "metadata": {},
   "source": [
    "** Create a function that grabs the email website domain from a string in the form: **\n",
    "\n",
    "user@domain.com\n",
    "So for example, passing \"user@domain.com\" would return: domain.com"
   ]
  },
  {
   "cell_type": "code",
   "execution_count": 12,
   "id": "859ac47f",
   "metadata": {},
   "outputs": [],
   "source": [
    "def extract_email(email_address):\n",
    "    return email_address.split('@')[1]\n",
    "    "
   ]
  },
  {
   "cell_type": "code",
   "execution_count": 13,
   "id": "74f256ba",
   "metadata": {},
   "outputs": [
    {
     "data": {
      "text/plain": [
       "'domain.com'"
      ]
     },
     "execution_count": 13,
     "metadata": {},
     "output_type": "execute_result"
    }
   ],
   "source": [
    "extract_email('user@domain.com')"
   ]
  },
  {
   "cell_type": "markdown",
   "id": "618c91cf",
   "metadata": {},
   "source": [
    "** Create a basic function that returns True if the word 'dog' is contained in the input string. Don't worry about edge cases like a punctuation being attached to the word dog, but do account for capitalization. **"
   ]
  },
  {
   "cell_type": "code",
   "execution_count": 25,
   "id": "b2e8838e",
   "metadata": {},
   "outputs": [],
   "source": [
    "def find_dog():\n",
    "     str = \"My dog lucy is smart and active.\"\n",
    "     if 'dog' in str:\n",
    "        return True\n",
    "     else:\n",
    "        return False"
   ]
  },
  {
   "cell_type": "code",
   "execution_count": 26,
   "id": "2e282958",
   "metadata": {},
   "outputs": [
    {
     "data": {
      "text/plain": [
       "True"
      ]
     },
     "execution_count": 26,
     "metadata": {},
     "output_type": "execute_result"
    }
   ],
   "source": [
    "find_dog()"
   ]
  },
  {
   "cell_type": "markdown",
   "id": "b3e851d9",
   "metadata": {},
   "source": [
    "** Create a function that counts the number of times the word \"dog\" occurs in a string. Again ignore edge cases. **"
   ]
  },
  {
   "cell_type": "code",
   "execution_count": 40,
   "id": "336abda5",
   "metadata": {},
   "outputs": [
    {
     "name": "stdout",
     "output_type": "stream",
     "text": [
      "3\n"
     ]
    }
   ],
   "source": [
    "def count_dog(str):\n",
    "    count = 0\n",
    "    words = str.split()\n",
    "    for word in words:\n",
    "        if word.lower() == \"dog\":\n",
    "            count = count+1\n",
    "    return count\n",
    "d = \"I have a dog who is very beautiful.My friend has a DOG named lucy. Dog are very active, loving and caring.\"\n",
    "print(count_dog(d)) "
   ]
  },
  {
   "cell_type": "markdown",
   "id": "4a68e713",
   "metadata": {},
   "source": [
    "** Use lambda expressions and the filter() function to filter out words from a list that don't start with the letter 's'. For example:**\n",
    "\n",
    "seq = ['soup','dog','salad','cat','great']\n",
    "\n",
    "<h4>should be filtered down to:</h4>\n",
    "\n",
    "['soup','salad']"
   ]
  },
  {
   "cell_type": "code",
   "execution_count": 34,
   "id": "e5711f29",
   "metadata": {},
   "outputs": [
    {
     "data": {
      "text/plain": [
       "['dog', 'cat', 'great']"
      ]
     },
     "execution_count": 34,
     "metadata": {},
     "output_type": "execute_result"
    }
   ],
   "source": [
    "seq = ['soup','dog','salad','cat','great']\n",
    "\n",
    "list(filter(lambda x:x[0]!= 's', seq))\n"
   ]
  },
  {
   "cell_type": "markdown",
   "id": "cb6dc393",
   "metadata": {},
   "source": [
    "<h4>Final Problem</h4>\n",
    "\n",
    "*You are driving a little too fast, and a police officer stops you. Write a function to return one of 3 possible results: \"No ticket\", \"Small ticket\", or \"Big Ticket\". If your speed is 60 or less, the result is \"No Ticket\". If speed is between 61 and 80 inclusive, the result is \"Small Ticket\". If speed is 81 or more, the result is \"Big Ticket\". Unless it is your birthday (encoded as a boolean value in the parameters of the function) -- on your birthday, your speed can be 5 higher in all cases.*"
   ]
  },
  {
   "cell_type": "code",
   "execution_count": 4,
   "id": "29ef17db",
   "metadata": {},
   "outputs": [],
   "source": [
    "def get_ticket_result(speed, birthday):\n",
    "    if birthday:\n",
    "      new_speed = speed - 5  # Adjust speed limit by 5 mph if it's your birthday\n",
    "\n",
    "    if speed <= 60:\n",
    "        return \"No Ticket\"\n",
    "    elif 61 <= speed <= 80:\n",
    "        return \"Small Ticket\"\n",
    "    else:\n",
    "        return \"Big Ticket\""
   ]
  },
  {
   "cell_type": "code",
   "execution_count": 5,
   "id": "3dee570a",
   "metadata": {},
   "outputs": [
    {
     "name": "stdout",
     "output_type": "stream",
     "text": [
      "Small Ticket\n",
      "No Ticket\n",
      "Big Ticket\n",
      "Big Ticket\n"
     ]
    }
   ],
   "source": [
    "print(get_ticket_result(70, False)) \n",
    "print(get_ticket_result(40, True))  \n",
    "print(get_ticket_result(85, False))  \n",
    "print(get_ticket_result(85, True))  "
   ]
  },
  {
   "cell_type": "markdown",
   "id": "80e09fff",
   "metadata": {},
   "source": [
    "*Given a string print number num by extracting all the\n",
    "digits from the string as in string\n",
    "Print negative number if the first character in \n",
    "string is '-'\n",
    "eg.\n",
    "-123abcd should return -123,abcd456-->456,fdhfh78dsd89--->7889,-56dssd78-->-5678*"
   ]
  },
  {
   "cell_type": "code",
   "execution_count": 6,
   "id": "ae5a8659",
   "metadata": {},
   "outputs": [
    {
     "name": "stdout",
     "output_type": "stream",
     "text": [
      "Enter the input:-456abcdefghijk100\n",
      "-456100\n"
     ]
    }
   ],
   "source": [
    "s=input(\"Enter the input:\")\n",
    "num=\"\"\n",
    "data=[0,1,2,3,4,5,6,7,8,9]\n",
    "if s[0]==\"-\":\n",
    "    num=num+s[0]\n",
    "for c in s:\n",
    "    if c in str(data):\n",
    "        num=num+c\n",
    "print(num)"
   ]
  },
  {
   "cell_type": "markdown",
   "id": "87534a71",
   "metadata": {},
   "source": [
    "WAP to check whether a number is palindrome or not on following conditions.\n",
    "1. take input number\n",
    "2. add number and its reverse\n",
    "3. check that number is palindrome or not,if not then sum and its reverse"
   ]
  },
  {
   "cell_type": "code",
   "execution_count": 8,
   "id": "34d47c27",
   "metadata": {},
   "outputs": [
    {
     "name": "stdout",
     "output_type": "stream",
     "text": [
      "Enter the Number:123\n",
      "palindrome is : 444\n"
     ]
    }
   ],
   "source": [
    "n1=input(\"Enter the Number:\")\n",
    "n2=int(n1[::-1])\n",
    "n3=str(int(n1)+n2)\n",
    "while n3!=n3[::-1]:\n",
    "    n3=str(int(n3)+int(n3[::-1]))\n",
    "    print(\"Number is :\",n3)\n",
    "    print(\"Revrse is :\",n3[::-1])\n",
    "print(\"palindrome is :\",n3)"
   ]
  },
  {
   "cell_type": "markdown",
   "id": "aff7875c",
   "metadata": {},
   "source": [
    "Write a python function to find and display the five \n",
    "digit number in which the first digit is two more than \n",
    "the second,the second digit is two more than the third,\n",
    "the fourth digit is two less than the third, and the \n",
    "last digit is two more than\n",
    "the fourth.The sum of the third,fourth and fifth digits\n",
    "equals the first.The sum of all the digits is 19"
   ]
  },
  {
   "cell_type": "code",
   "execution_count": 9,
   "id": "de0a65f0",
   "metadata": {},
   "outputs": [],
   "source": [
    "def fun1():\n",
    "    for a in range(0,10):\n",
    "        b=a-2\n",
    "        c=b-2\n",
    "        d=c-2\n",
    "        if c+d+c==a and a+b+c+d+c==19:\n",
    "            print(str(a)+str(b)+str(c)+str(d)+str(c))"
   ]
  },
  {
   "cell_type": "code",
   "execution_count": 11,
   "id": "5aebc9ff",
   "metadata": {},
   "outputs": [
    {
     "name": "stdout",
     "output_type": "stream",
     "text": [
      "75313\n"
     ]
    }
   ],
   "source": [
    "fun1()"
   ]
  },
  {
   "cell_type": "code",
   "execution_count": null,
   "id": "fdec47b5",
   "metadata": {},
   "outputs": [],
   "source": []
  }
 ],
 "metadata": {
  "kernelspec": {
   "display_name": "Python 3",
   "language": "python",
   "name": "python3"
  },
  "language_info": {
   "codemirror_mode": {
    "name": "ipython",
    "version": 3
   },
   "file_extension": ".py",
   "mimetype": "text/x-python",
   "name": "python",
   "nbconvert_exporter": "python",
   "pygments_lexer": "ipython3",
   "version": "3.8.8"
  }
 },
 "nbformat": 4,
 "nbformat_minor": 5
}
